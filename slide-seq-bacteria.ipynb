{
 "cells": [
  {
   "cell_type": "code",
   "execution_count": 3,
   "id": "c7f97d49-a20b-4d44-b3c1-830407b91a6f",
   "metadata": {},
   "outputs": [],
   "source": [
    "import pysam\n",
    "import matplotlib.pyplot as plt\n",
    "import scanpy as sc\n",
    "from anndata import AnnData\n",
    "from PIL import Image\n",
    "import seaborn as sns\n",
    "import numpy as np\n",
    "import pandas as pd\n",
    "import os\n",
    "from scipy.sparse import csr_matrix\n",
    "from tqdm import tqdm\n",
    "#from matplotlib_scalebar.scalebar import ScaleBar\n",
    "from datetime import datetime\n",
    "#import umap\n",
    "#umap.UMAP().fit_transform(np.random.randn(10_000, 20))\n",
    "\n",
    "pd.set_option('display.max_rows', 100)\n",
    "pd.set_option('display.max_columns', 50)\n",
    "pd.set_option('display.max_colwidth', 1000)\n",
    "import subprocess\n",
    "\n",
    "def sort_cnt(arr):\n",
    "    npcnt=np.array(np.unique(arr,return_counts=True)).T\n",
    "    dfcnt=pd.DataFrame(npcnt)\n",
    "    dfcnt[1]=dfcnt[1].astype('int')\n",
    "    dfcnt=dfcnt.sort_values(by=1,ascending=False)\n",
    "    return dfcnt\n",
    "\n",
    "def rounder(adata):\n",
    "    rad=1500/.73;pad=50;\n",
    "    rx=np.mean(adata.obs['x']);ry=np.mean(adata.obs['y'])\n",
    "    #adata.obs['x']=adata.obs['x']-rx;adata.obs['y']=adata.obs['y']-ry\n",
    "    #adata.obsm['spatial']=adata.obs[['x','y']].values\n",
    "    adata=adata[(adata.obs['x']-rx)**2+(adata.obs['y']-ry)**2<=rad**2].copy()\n",
    "\n",
    "    crop=[np.min(adata.obsm['spatial'][:,0])-pad,np.max(adata.obsm['spatial'][:,0])+pad,\\\n",
    "    np.max(adata.obsm['spatial'][:,1])+pad,np.min(adata.obsm['spatial'][:,1])-pad]\n",
    "    return adata,crop\n",
    "\n",
    "def marker_plot(adata,puck,markers,crop,t=0,nrow=10,ncol=5,wd=6,spot=50,alpha=.6,rembar=True,vmx='p99.2'):\n",
    "    fig, ax = plt.subplots(nrow, ncol, figsize=(ncol*wd,nrow*wd), gridspec_kw={'wspace':0.01})\n",
    "    axr=ax.ravel()\n",
    "    #sc.pl.spatial(adata, color='total_counts',vmax='p99.2',spot_size=40,frameon=False,\n",
    "    #                  crop_coord=crop,cmap='plasma',alpha=.6,ax=axr[0], show=False)\n",
    "    for i,gene in enumerate(markers):\n",
    "        #i=i+1\n",
    "        try:\n",
    "            #ad=adata[ (adata[:,gene].X>0)]\n",
    "            #if ad.shape[0]>10000:\n",
    "            #    t=0;print(ad.shape[0],gene,adata[ (adata[:,gene].X>t)].shape[0])\n",
    "            #else:\n",
    "            #    t=0;print(ad.shape[0],gene)\n",
    "            if vmx is not None:\n",
    "                \n",
    "                sc.pl.spatial(adata[ (adata[:,gene].X>t)], color=gene,vmax=vmx,\n",
    "                          spot_size=spot,ax=axr[i], show=False,frameon=False,#frameon=True,\n",
    "                              crop_coord=crop,\n",
    "                              #crop_coord=[300,5000,5100,400],\n",
    "                              #crop_coord=[500,4600,4800,400],\n",
    "                              cmap='plasma',alpha=alpha,alpha_img=.8)\n",
    "            else:\n",
    "                sc.pl.spatial(adata[ (adata[:,gene].X>t)], color=gene,\n",
    "                          spot_size=spot,ax=axr[i], show=False,frameon=False,#frameon=True,\n",
    "                              crop_coord=crop,\n",
    "                              #crop_coord=[300,5000,5100,400],\n",
    "                              #crop_coord=[500,4600,4800,400],\n",
    "                              cmap='plasma',alpha=alpha,alpha_img=.8)\n",
    "            #scalebar = ScaleBar(0.65,\"um\", length_fraction=1 / 3 / 2,frameon=False,label_loc=\"bottom\",label=None,location=\"lower right\")\n",
    "            #axr[i].add_artist(scalebar)\n",
    "            axr[i].set_title(f'{gene}', fontsize=20)#, fontweight='bold')#,f'{gene}\\n{puck}' fontwieght=\"medium\")\n",
    "            cbar = axr[i].collections[0].colorbar\n",
    "            if rembar:\n",
    "                cbar.remove()\n",
    "        except:\n",
    "            axr[i].remove()\n",
    "            #i=i-1\n",
    "    for j in np.arange(i+1,len(axr)):\n",
    "        axr[j].remove()\n",
    "\n",
    "def mtx_adata(slideseq,i,save=True):\n",
    "    folds=sorted(os.listdir(slideseq))\n",
    "    print(folds[i]);fold=folds[i];date = fold.split('_')[0];puck = fold.split(date+'_')[1]\n",
    "    folds=os.listdir(slideseq) #list subfolders in a head folder of samples, the mtx features barcodes and xy files all should in the same subfolder\n",
    "    adata = sc.read_mtx(f'{slideseq}/{fold}/{puck}.matched.digital_expression_matrix.mtx.gz')# load in counts matrix\n",
    "    adata = adata.T\n",
    "    adata.var = pd.read_table(f'{slideseq}/{fold}/{puck}.matched.digital_expression_features.tsv.gz', \n",
    "                              names=['ensembl','gene'], index_col=1)# load in gene names/ids table\n",
    "    barcode_xy = pd.read_table(f'{slideseq}/{fold}/{puck}_barcode_xy.txt.gz',names=['x','y'], index_col=0)# load in bead barcodes>location table\n",
    "    barcodes = pd.read_table(f'{slideseq}/{fold}/{puck}.matched.digital_expression_barcodes.tsv.gz', \n",
    "                             names=['barcode'], index_col=0)# load in bead barcodes list\n",
    "    adata.obs=barcodes.merge(barcode_xy,left_index=True,right_index=True)\n",
    "    adata.obsm['spatial']=adata.obs.values\n",
    "    sc.pp.calculate_qc_metrics(adata, percent_top=None, log1p=True,inplace=True)\n",
    "    if save:\n",
    "        adata.write_h5ad(f'{slideseq}/{fold}/adata_{puck}_raw.h5ad')\n",
    "    return adata\n",
    "\n",
    "def mtx_adata_old(slideseq,i,save=True):\n",
    "    folds=sorted(os.listdir(slideseq))\n",
    "    print(folds[i]);fold=folds[i];date = fold.split('_')[0];puck = fold.split(date+'_')[1]\n",
    "    adata = sc.read_mtx(f'{slideseq}/{fold}/{puck}.matched.digital_expression_matrix.mtx.gz')# load in counts matrix\n",
    "    adata = adata.T\n",
    "    adata.var = pd.read_table(f'{slideseq}/{fold}/{puck}.matched.digital_expression_features.tsv.gz', \n",
    "                              names=['ensembl','gene'], index_col=1)# load in gene names/ids table\n",
    "    coords=pd.read_table(f'{slideseq}/{fold}/{puck}_barcode_matching.txt.gz',names=['bc','x','y'], usecols=[1,2,3])\n",
    "    coords.drop_duplicates('bc',inplace=True);coords.set_index('bc',inplace=True)\n",
    "    barcodes = pd.read_table(f'{slideseq}/{fold}/{puck}.matched.digital_expression_barcodes.tsv.gz', names=['barcode'], index_col=0)\n",
    "    adata.obs = barcodes\n",
    "    adata.obsm['spatial'] = coords.loc[barcodes.index].values\n",
    "    adata.obs['x']=adata.obsm['spatial'][:,0]\n",
    "    adata.obs['y']=adata.obsm['spatial'][:,1]\n",
    "    sc.pp.calculate_qc_metrics(adata, percent_top=None, inplace=True)\n",
    "    if save:\n",
    "        adata.write_h5ad(f'{slideseq}/{fold}/adata_{puck}_raw.h5ad')\n",
    "    return adata"
   ]
  },
  {
   "cell_type": "markdown",
   "id": "f247e4e4-d501-4124-96e1-bd6ac4e4876d",
   "metadata": {},
   "source": [
    "## make slide-seq rna-seq adata and plot markers"
   ]
  },
  {
   "cell_type": "code",
   "execution_count": 8,
   "id": "ec34230c-f4c7-4c0e-a0c1-81673f5c1519",
   "metadata": {},
   "outputs": [],
   "source": [
    "slideseq='/n/data2/dfci/medonc/cwu/chloe'"
   ]
  },
  {
   "cell_type": "code",
   "execution_count": 9,
   "id": "f8c1aa90-e158-416f-a77b-3c56c84343e0",
   "metadata": {},
   "outputs": [],
   "source": [
    "folds=sorted(os.listdir(slideseq))"
   ]
  },
  {
   "cell_type": "code",
   "execution_count": 10,
   "id": "377e417f-97f4-4d70-8ef3-ac5385b10493",
   "metadata": {},
   "outputs": [
    {
     "data": {
      "text/plain": [
       "['2023-04-19_Puck_230206_08']"
      ]
     },
     "execution_count": 10,
     "metadata": {},
     "output_type": "execute_result"
    }
   ],
   "source": [
    "folds"
   ]
  },
  {
   "cell_type": "code",
   "execution_count": 11,
   "id": "975a18fd-7dea-48a5-9820-389cb510a04e",
   "metadata": {},
   "outputs": [
    {
     "name": "stdout",
     "output_type": "stream",
     "text": [
      "2023-04-19_Puck_230206_08\n",
      "2023-04-19_Puck_230206_08\n"
     ]
    }
   ],
   "source": [
    "for i in range(len(folds)):\n",
    "    #print(folds[i])\n",
    "    adata=mtx_adata(slideseq,i,save=True)"
   ]
  },
  {
   "cell_type": "code",
   "execution_count": 13,
   "id": "25cbe175-6fb6-4211-be1f-4f2a4305396e",
   "metadata": {},
   "outputs": [
    {
     "name": "stdout",
     "output_type": "stream",
     "text": [
      "2023-04-19_Puck_230206_08\n"
     ]
    }
   ],
   "source": [
    "i=0\n",
    "print(folds[i]);fold=folds[i];date = fold.split('_')[0];puck = fold.split(date+'_')[1]"
   ]
  },
  {
   "cell_type": "code",
   "execution_count": 14,
   "id": "32fbc19f-73d9-4ac3-b9f1-4330b6b44413",
   "metadata": {},
   "outputs": [],
   "source": [
    "adata=sc.read(f'{slideseq}/{fold}/adata_{puck}_raw.h5ad')"
   ]
  },
  {
   "cell_type": "code",
   "execution_count": 5,
   "id": "1f0098e2-353e-4840-9742-28642c1537c2",
   "metadata": {},
   "outputs": [],
   "source": [
    "#markers=['LYZ','NCAM1','GNLY','TRGV9','CD63','APOE','IFNGR1','IFNG','HNRNPA2B1','MARCO','CD19','TRBC2','CD3D','CD3E','LYZ','IGKC','MS4A1','CXCL9','CXCL10','VEGFA']"
   ]
  },
  {
   "cell_type": "code",
   "execution_count": 19,
   "id": "396ec662-de19-4110-8da9-379118abe1c5",
   "metadata": {},
   "outputs": [],
   "source": [
    "markers=['CA9','VEGFA','MS4A1','TRBC2','LYZ','IGKC']"
   ]
  },
  {
   "cell_type": "code",
   "execution_count": 140,
   "id": "d2b0dcc0-4f20-4adb-84e3-9da00d5a44f7",
   "metadata": {},
   "outputs": [],
   "source": [
    "#markers=['CD79A','PAX5','FCGR3A', 'CCL5', 'CD44', 'C1QA', 'GBP1','GBP5', 'ITGB2']"
   ]
  },
  {
   "cell_type": "code",
   "execution_count": null,
   "id": "9867c2e8-d1e1-4e68-adde-6e556739f9d9",
   "metadata": {},
   "outputs": [],
   "source": [
    "for i in [0]:\n",
    "    folds=sorted(os.listdir(slideseq))\n",
    "    print(folds[i]);fold=folds[i];date = fold.split('_')[0];puck = fold.split(date+'_')[1]\n",
    "    adata=sc.read(f'{slideseq}/{fold}/adata_{puck}_raw.h5ad')\n",
    "    #sc.pp.filter_cells(adata,min_counts=100)\n",
    "    #adata,crop=rounder(adata)\n",
    "    #crop=[300,2200,2200,300]\n",
    "    crop=[100,5000,5000,300]\n",
    "    marker_plot(adata,puck,markers,crop,t=0,nrow=2,ncol=3,wd=6,alpha=.8,spot=70,rembar=False)\n",
    "    plt.savefig(f'{slideseq}/{fold}/markers_{puck}.pdf',bbox_inches='tight');"
   ]
  },
  {
   "cell_type": "markdown",
   "id": "1ad0b9ab-71c5-4645-9cc8-e13f6482b6b4",
   "metadata": {},
   "source": [
    "## convert matched bam to fastq (needs pigz with current options)"
   ]
  },
  {
   "cell_type": "code",
   "execution_count": 125,
   "id": "91f87999-57c5-4260-ba38-4b48ed1fa3bd",
   "metadata": {},
   "outputs": [
    {
     "name": "stdout",
     "output_type": "stream",
     "text": [
      "2023-04-19_Puck_230206_08\n"
     ]
    }
   ],
   "source": [
    "folds=sorted(os.listdir(slideseq))\n",
    "i=0\n",
    "print(folds[i]);fold=folds[i];date = fold.split('_')[0];puck = fold.split(date+'_')[1]\n",
    "adata=sc.read(f'{slideseq}/{fold}/adata_{puck}_raw.h5ad')"
   ]
  },
  {
   "cell_type": "code",
   "execution_count": 126,
   "id": "4848784f-92b8-412f-8bdb-7fbfeb403f72",
   "metadata": {
    "tags": []
   },
   "outputs": [],
   "source": [
    "## command line for mapping unmapped"
   ]
  },
  {
   "cell_type": "code",
   "execution_count": 127,
   "id": "d5ed75a9-3a4a-4ecd-a7de-99c1a9aa7e20",
   "metadata": {},
   "outputs": [],
   "source": [
    "bam_file=f'{slideseq}/{fold}/{puck}.matched'"
   ]
  },
  {
   "cell_type": "code",
   "execution_count": 128,
   "id": "3ad6849d-4c95-4c23-b5a8-a8f8e160eac2",
   "metadata": {},
   "outputs": [
    {
     "data": {
      "text/plain": [
       "'/n/data2/dfci/medonc/cwu/chloe/2023-04-19_Puck_230206_08/Puck_230206_08.matched'"
      ]
     },
     "execution_count": 128,
     "metadata": {},
     "output_type": "execute_result"
    }
   ],
   "source": [
    "bam_file"
   ]
  },
  {
   "cell_type": "code",
   "execution_count": 131,
   "id": "a5dc1fc3-6840-4181-889b-0cb495bb4f73",
   "metadata": {},
   "outputs": [
    {
     "data": {
      "text/plain": [
       "0"
      ]
     },
     "execution_count": 131,
     "metadata": {},
     "output_type": "execute_result"
    }
   ],
   "source": [
    "subprocess.call([ 'sbatch','/home/meb521/scripts/matchbam2fq.sh', bam_file]) ## for submitting as a job"
   ]
  },
  {
   "cell_type": "code",
   "execution_count": 132,
   "id": "d803fdd2-5750-41ea-9a23-da24071f79f2",
   "metadata": {},
   "outputs": [],
   "source": [
    "#subprocess.call([ '/home/meb521/scripts/matchbam2fq.sh', bam_file]) # for running on the current node"
   ]
  },
  {
   "cell_type": "code",
   "execution_count": 133,
   "id": "212c7632-933a-4f1a-ab3a-84836191a96a",
   "metadata": {},
   "outputs": [],
   "source": [
    "## command line for mapping unmapped reads to emu 16s reference > change accordingly if mode changes ('sr' for short reads, 'map-ont' for nanopore) or reference changes (virus, bacteria, fungi, etc.)"
   ]
  },
  {
   "cell_type": "code",
   "execution_count": 135,
   "id": "b5c8b752-f1c8-4af7-a87c-cad13b801a3e",
   "metadata": {},
   "outputs": [],
   "source": [
    "input_fastq=f'{bam_file}_unmapped.fastq.gz'\n",
    "out_name=f'{bam_file}_emu'"
   ]
  },
  {
   "cell_type": "code",
   "execution_count": 136,
   "id": "651bcc0b-bf2e-4691-9150-c459b4f992c1",
   "metadata": {},
   "outputs": [
    {
     "data": {
      "text/plain": [
       "'/n/data2/dfci/medonc/cwu/chloe/2023-04-19_Puck_230206_08/Puck_230206_08.matched_unmapped.fastq.gz'"
      ]
     },
     "execution_count": 136,
     "metadata": {},
     "output_type": "execute_result"
    }
   ],
   "source": [
    "input_fastq"
   ]
  },
  {
   "cell_type": "code",
   "execution_count": 137,
   "id": "0a9d0cf5-a765-4bd0-a878-5c72d472ead3",
   "metadata": {},
   "outputs": [
    {
     "data": {
      "text/plain": [
       "'/n/data2/dfci/medonc/cwu/chloe/2023-04-19_Puck_230206_08/Puck_230206_08.matched_emu'"
      ]
     },
     "execution_count": 137,
     "metadata": {},
     "output_type": "execute_result"
    }
   ],
   "source": [
    "out_name"
   ]
  },
  {
   "cell_type": "code",
   "execution_count": 138,
   "id": "cd11e603-f066-41ae-8e87-6b8f5279f42c",
   "metadata": {},
   "outputs": [
    {
     "name": "stdout",
     "output_type": "stream",
     "text": [
      "['/home/meb521/scripts/align_one.sh', 'sr', '/home/meb521/refs/emu_16s_species.fasta.gz', '', '/n/data2/dfci/medonc/cwu/chloe/2023-04-19_Puck_230206_08/Puck_230206_08.matched_unmapped.fastq.gz', '/n/data2/dfci/medonc/cwu/chloe/2023-04-19_Puck_230206_08/Puck_230206_08.matched_emu']\n"
     ]
    }
   ],
   "source": [
    "align_comm='/home/meb521/scripts/align_one.sh'\n",
    "ref_emu='/home/meb521/refs/emu_16s_species.fasta.gz'\n",
    "align_comm='/home/meb521/scripts/align_one.sh'\n",
    "\n",
    "# input directory set '' because the input and output filename are full path\n",
    "#to_run=[ 'sbatch', align_comm, 'sr', ref_emu, '', input_fastq ,out_name] #run as job\n",
    "\n",
    "to_run=[ align_comm, 'sr', ref_emu, '', input_fastq ,out_name]  #run on the node\n",
    "print(to_run)"
   ]
  },
  {
   "cell_type": "code",
   "execution_count": 139,
   "id": "60e0d956-34f0-425a-9bf3-2f2268f1e4b5",
   "metadata": {},
   "outputs": [
    {
     "data": {
      "text/plain": [
       "0"
      ]
     },
     "execution_count": 139,
     "metadata": {},
     "output_type": "execute_result"
    }
   ],
   "source": [
    "subprocess.call(to_run)"
   ]
  },
  {
   "cell_type": "code",
   "execution_count": null,
   "id": "80918ec2-f510-4eb1-a35f-92cfe1bfd9ce",
   "metadata": {
    "tags": []
   },
   "outputs": [],
   "source": [
    "## plot host counts"
   ]
  },
  {
   "cell_type": "code",
   "execution_count": null,
   "id": "72410532-faa7-495c-80ab-d2a8bd95272d",
   "metadata": {},
   "outputs": [],
   "source": [
    "ax=sc.pl.spatial(adata,color='total_counts',show=False,\n",
    "                  spot_size=80,frameon=False,vmax='p99.3',\n",
    "                  crop_coord=[300,5000,5000,300],alpha=.5,cmap='plasma',title='total human UMI')\n",
    "plt.savefig(f'{slideseq}/{fold}/{puck}_host_umi.pdf',bbox_inches='tight');"
   ]
  },
  {
   "cell_type": "code",
   "execution_count": 140,
   "id": "f8782611-9ec2-4665-8a6b-1bb07f36a4ec",
   "metadata": {},
   "outputs": [],
   "source": [
    "# get the aligned file and the initial unampped bam which contains barcode/umi information"
   ]
  },
  {
   "cell_type": "code",
   "execution_count": 141,
   "id": "aeb617bf-b5c5-42ea-9d86-55e025f338ec",
   "metadata": {},
   "outputs": [
    {
     "name": "stdout",
     "output_type": "stream",
     "text": [
      "/n/data2/dfci/medonc/cwu/chloe/2023-04-19_Puck_230206_08/Puck_230206_08.matched_emu.sam\n"
     ]
    }
   ],
   "source": [
    "f_match=f'{slideseq}/{fold}/{puck}.matched_unmapped.bam'\n",
    "f_map=f'{slideseq}/{fold}/{puck}.matched_emu.sam'\n",
    "\n",
    "print(f_map)"
   ]
  },
  {
   "cell_type": "code",
   "execution_count": 142,
   "id": "05d31db5-b95e-48eb-8d81-aaf581f41040",
   "metadata": {},
   "outputs": [],
   "source": [
    "# table of taxonomic data for the sequences inside emu_16s_species.fasta.gz"
   ]
  },
  {
   "cell_type": "code",
   "execution_count": 143,
   "id": "1b15b0ed-02ed-430e-ac38-cae3388e1428",
   "metadata": {},
   "outputs": [],
   "source": [
    "tax=pd.read_table(f'{slideseq}/taxonomy.tsv')"
   ]
  },
  {
   "cell_type": "code",
   "execution_count": 144,
   "id": "9ecb4325-c39a-45e3-925c-109ad340f0d1",
   "metadata": {},
   "outputs": [
    {
     "data": {
      "text/html": [
       "<div>\n",
       "<style scoped>\n",
       "    .dataframe tbody tr th:only-of-type {\n",
       "        vertical-align: middle;\n",
       "    }\n",
       "\n",
       "    .dataframe tbody tr th {\n",
       "        vertical-align: top;\n",
       "    }\n",
       "\n",
       "    .dataframe thead th {\n",
       "        text-align: right;\n",
       "    }\n",
       "</style>\n",
       "<table border=\"1\" class=\"dataframe\">\n",
       "  <thead>\n",
       "    <tr style=\"text-align: right;\">\n",
       "      <th></th>\n",
       "      <th>tax_id</th>\n",
       "      <th>species</th>\n",
       "      <th>genus</th>\n",
       "      <th>family</th>\n",
       "      <th>order</th>\n",
       "      <th>class</th>\n",
       "      <th>phylum</th>\n",
       "      <th>clade</th>\n",
       "      <th>superkingdom</th>\n",
       "      <th>subspecies</th>\n",
       "      <th>species subgroup</th>\n",
       "      <th>species group</th>\n",
       "    </tr>\n",
       "  </thead>\n",
       "  <tbody>\n",
       "    <tr>\n",
       "      <th>0</th>\n",
       "      <td>2594042</td>\n",
       "      <td>Candidatus Prometheoarchaeum syntrophicum</td>\n",
       "      <td>Candidatus Prometheoarchaeum</td>\n",
       "      <td>NaN</td>\n",
       "      <td>NaN</td>\n",
       "      <td>NaN</td>\n",
       "      <td>Candidatus Lokiarchaeota</td>\n",
       "      <td>Asgard group</td>\n",
       "      <td>Archaea</td>\n",
       "      <td>NaN</td>\n",
       "      <td>NaN</td>\n",
       "      <td>NaN</td>\n",
       "    </tr>\n",
       "    <tr>\n",
       "      <th>1</th>\n",
       "      <td>1920749</td>\n",
       "      <td>Candidatus Mancarchaeum acidiphilum</td>\n",
       "      <td>Candidatus Mancarchaeum</td>\n",
       "      <td>NaN</td>\n",
       "      <td>NaN</td>\n",
       "      <td>NaN</td>\n",
       "      <td>Candidatus Micrarchaeota</td>\n",
       "      <td>DPANN group</td>\n",
       "      <td>Archaea</td>\n",
       "      <td>NaN</td>\n",
       "      <td>NaN</td>\n",
       "      <td>NaN</td>\n",
       "    </tr>\n",
       "    <tr>\n",
       "      <th>2</th>\n",
       "      <td>1291540</td>\n",
       "      <td>Candidatus Methanomethylophilus alvus</td>\n",
       "      <td>Candidatus Methanomethylophilus</td>\n",
       "      <td>Candidatus Methanomethylophilaceae</td>\n",
       "      <td>Methanomassiliicoccales</td>\n",
       "      <td>Thermoplasmata</td>\n",
       "      <td>Euryarchaeota</td>\n",
       "      <td>Diaforarchaea group</td>\n",
       "      <td>Archaea</td>\n",
       "      <td>NaN</td>\n",
       "      <td>NaN</td>\n",
       "      <td>NaN</td>\n",
       "    </tr>\n",
       "    <tr>\n",
       "      <th>3</th>\n",
       "      <td>1577791</td>\n",
       "      <td>Candidatus Methanoplasma termitum</td>\n",
       "      <td>Candidatus Methanoplasma</td>\n",
       "      <td>Methanomassiliicoccaceae</td>\n",
       "      <td>Methanomassiliicoccales</td>\n",
       "      <td>Thermoplasmata</td>\n",
       "      <td>Euryarchaeota</td>\n",
       "      <td>Diaforarchaea group</td>\n",
       "      <td>Archaea</td>\n",
       "      <td>NaN</td>\n",
       "      <td>NaN</td>\n",
       "      <td>NaN</td>\n",
       "    </tr>\n",
       "    <tr>\n",
       "      <th>4</th>\n",
       "      <td>1406512</td>\n",
       "      <td>Candidatus Methanomassiliicoccus intestinalis</td>\n",
       "      <td>Methanomassiliicoccus</td>\n",
       "      <td>Methanomassiliicoccaceae</td>\n",
       "      <td>Methanomassiliicoccales</td>\n",
       "      <td>Thermoplasmata</td>\n",
       "      <td>Euryarchaeota</td>\n",
       "      <td>Diaforarchaea group</td>\n",
       "      <td>Archaea</td>\n",
       "      <td>NaN</td>\n",
       "      <td>NaN</td>\n",
       "      <td>NaN</td>\n",
       "    </tr>\n",
       "    <tr>\n",
       "      <th>...</th>\n",
       "      <td>...</td>\n",
       "      <td>...</td>\n",
       "      <td>...</td>\n",
       "      <td>...</td>\n",
       "      <td>...</td>\n",
       "      <td>...</td>\n",
       "      <td>...</td>\n",
       "      <td>...</td>\n",
       "      <td>...</td>\n",
       "      <td>...</td>\n",
       "      <td>...</td>\n",
       "      <td>...</td>\n",
       "    </tr>\n",
       "    <tr>\n",
       "      <th>17551</th>\n",
       "      <td>126738</td>\n",
       "      <td>Thermotoga sp. RQ7</td>\n",
       "      <td>Thermotoga</td>\n",
       "      <td>Thermotogaceae</td>\n",
       "      <td>Thermotogales</td>\n",
       "      <td>Thermotogae</td>\n",
       "      <td>Thermotogae</td>\n",
       "      <td>NaN</td>\n",
       "      <td>Bacteria</td>\n",
       "      <td>NaN</td>\n",
       "      <td>NaN</td>\n",
       "      <td>NaN</td>\n",
       "    </tr>\n",
       "    <tr>\n",
       "      <th>17552</th>\n",
       "      <td>471825</td>\n",
       "      <td>Haloplasma contractile</td>\n",
       "      <td>Haloplasma</td>\n",
       "      <td>Haloplasmataceae</td>\n",
       "      <td>Haloplasmatales</td>\n",
       "      <td>NaN</td>\n",
       "      <td>NaN</td>\n",
       "      <td>NaN</td>\n",
       "      <td>Bacteria</td>\n",
       "      <td>NaN</td>\n",
       "      <td>NaN</td>\n",
       "      <td>NaN</td>\n",
       "    </tr>\n",
       "    <tr>\n",
       "      <th>17553</th>\n",
       "      <td>1167881</td>\n",
       "      <td>Bactoderma rosea</td>\n",
       "      <td>Bactoderma</td>\n",
       "      <td>NaN</td>\n",
       "      <td>NaN</td>\n",
       "      <td>NaN</td>\n",
       "      <td>NaN</td>\n",
       "      <td>NaN</td>\n",
       "      <td>Bacteria</td>\n",
       "      <td>NaN</td>\n",
       "      <td>NaN</td>\n",
       "      <td>NaN</td>\n",
       "    </tr>\n",
       "    <tr>\n",
       "      <th>17554</th>\n",
       "      <td>48383</td>\n",
       "      <td>Thermothrix azorensis</td>\n",
       "      <td>Thermothrix</td>\n",
       "      <td>NaN</td>\n",
       "      <td>NaN</td>\n",
       "      <td>NaN</td>\n",
       "      <td>NaN</td>\n",
       "      <td>NaN</td>\n",
       "      <td>Bacteria</td>\n",
       "      <td>NaN</td>\n",
       "      <td>NaN</td>\n",
       "      <td>NaN</td>\n",
       "    </tr>\n",
       "    <tr>\n",
       "      <th>17555</th>\n",
       "      <td>1930593</td>\n",
       "      <td>Vampirococcus sp. LiM</td>\n",
       "      <td>Vampirococcus</td>\n",
       "      <td>NaN</td>\n",
       "      <td>NaN</td>\n",
       "      <td>NaN</td>\n",
       "      <td>NaN</td>\n",
       "      <td>NaN</td>\n",
       "      <td>Bacteria</td>\n",
       "      <td>NaN</td>\n",
       "      <td>NaN</td>\n",
       "      <td>NaN</td>\n",
       "    </tr>\n",
       "  </tbody>\n",
       "</table>\n",
       "<p>17556 rows × 12 columns</p>\n",
       "</div>"
      ],
      "text/plain": [
       "        tax_id                                        species  \\\n",
       "0      2594042      Candidatus Prometheoarchaeum syntrophicum   \n",
       "1      1920749            Candidatus Mancarchaeum acidiphilum   \n",
       "2      1291540          Candidatus Methanomethylophilus alvus   \n",
       "3      1577791              Candidatus Methanoplasma termitum   \n",
       "4      1406512  Candidatus Methanomassiliicoccus intestinalis   \n",
       "...        ...                                            ...   \n",
       "17551   126738                             Thermotoga sp. RQ7   \n",
       "17552   471825                         Haloplasma contractile   \n",
       "17553  1167881                               Bactoderma rosea   \n",
       "17554    48383                          Thermothrix azorensis   \n",
       "17555  1930593                          Vampirococcus sp. LiM   \n",
       "\n",
       "                                 genus                              family  \\\n",
       "0         Candidatus Prometheoarchaeum                                 NaN   \n",
       "1              Candidatus Mancarchaeum                                 NaN   \n",
       "2      Candidatus Methanomethylophilus  Candidatus Methanomethylophilaceae   \n",
       "3             Candidatus Methanoplasma            Methanomassiliicoccaceae   \n",
       "4                Methanomassiliicoccus            Methanomassiliicoccaceae   \n",
       "...                                ...                                 ...   \n",
       "17551                       Thermotoga                      Thermotogaceae   \n",
       "17552                       Haloplasma                    Haloplasmataceae   \n",
       "17553                       Bactoderma                                 NaN   \n",
       "17554                      Thermothrix                                 NaN   \n",
       "17555                    Vampirococcus                                 NaN   \n",
       "\n",
       "                         order           class                    phylum  \\\n",
       "0                          NaN             NaN  Candidatus Lokiarchaeota   \n",
       "1                          NaN             NaN  Candidatus Micrarchaeota   \n",
       "2      Methanomassiliicoccales  Thermoplasmata             Euryarchaeota   \n",
       "3      Methanomassiliicoccales  Thermoplasmata             Euryarchaeota   \n",
       "4      Methanomassiliicoccales  Thermoplasmata             Euryarchaeota   \n",
       "...                        ...             ...                       ...   \n",
       "17551            Thermotogales     Thermotogae               Thermotogae   \n",
       "17552          Haloplasmatales             NaN                       NaN   \n",
       "17553                      NaN             NaN                       NaN   \n",
       "17554                      NaN             NaN                       NaN   \n",
       "17555                      NaN             NaN                       NaN   \n",
       "\n",
       "                     clade superkingdom  subspecies species subgroup  \\\n",
       "0             Asgard group      Archaea         NaN              NaN   \n",
       "1              DPANN group      Archaea         NaN              NaN   \n",
       "2      Diaforarchaea group      Archaea         NaN              NaN   \n",
       "3      Diaforarchaea group      Archaea         NaN              NaN   \n",
       "4      Diaforarchaea group      Archaea         NaN              NaN   \n",
       "...                    ...          ...         ...              ...   \n",
       "17551                  NaN     Bacteria         NaN              NaN   \n",
       "17552                  NaN     Bacteria         NaN              NaN   \n",
       "17553                  NaN     Bacteria         NaN              NaN   \n",
       "17554                  NaN     Bacteria         NaN              NaN   \n",
       "17555                  NaN     Bacteria         NaN              NaN   \n",
       "\n",
       "      species group  \n",
       "0               NaN  \n",
       "1               NaN  \n",
       "2               NaN  \n",
       "3               NaN  \n",
       "4               NaN  \n",
       "...             ...  \n",
       "17551           NaN  \n",
       "17552           NaN  \n",
       "17553           NaN  \n",
       "17554           NaN  \n",
       "17555           NaN  \n",
       "\n",
       "[17556 rows x 12 columns]"
      ]
     },
     "execution_count": 144,
     "metadata": {},
     "output_type": "execute_result"
    }
   ],
   "source": [
    "tax"
   ]
  },
  {
   "cell_type": "markdown",
   "id": "b6d03878-cada-4fdf-b0e6-aab5ad006612",
   "metadata": {},
   "source": [
    "## pull reads and filter"
   ]
  },
  {
   "cell_type": "code",
   "execution_count": 145,
   "id": "e2757ac0-7b26-4173-b052-169008a05ec7",
   "metadata": {},
   "outputs": [
    {
     "name": "stderr",
     "output_type": "stream",
     "text": [
      "3039it [00:00, 67784.25it/s]\n"
     ]
    }
   ],
   "source": [
    "samfile = pysam.AlignmentFile(f_map, 'r' ,threads=4,check_sq=False)\n",
    "flags=[];reads={};i=0;save=False;extract=False\n",
    "if save:\n",
    "    f_name=f_map.split('.sam')[0]+'_extract.fastq'\n",
    "    f= open(f_name, 'w')\n",
    "for read in tqdm(samfile.fetch()):\n",
    "    i+=1\n",
    "    AS=read.get_tag('AS');mapq=read.mapping_quality\n",
    "    if AS>70: # max alignment score (based on default aligner options) for minimap2 is 2x read length, for STAR 1x read length \n",
    "        ref=read.reference_name\n",
    "        if save:\n",
    "            qstrt=read.query_alignment_start;qend=read.query_alignment_end\n",
    "            newnamef=f'{read.qname}_{qstrt}_{qend}_{read.flag}_{ref}'\n",
    "            if extract:\n",
    "                sub_seq=read.seq[qstrt:qend]\n",
    "                sub_qual=read.qual[qstrt:qend]\n",
    "                f.write(f'@{newnamef}\\n')\n",
    "                f.write(f'{sub_seq}\\n')\n",
    "                f.write('+\\n')\n",
    "                f.write(f'{sub_qual}\\n')\n",
    "            else:\n",
    "                f.write(f'@{newnamef}\\n')\n",
    "                f.write(f'{read.seq}\\n')\n",
    "                f.write('+\\n')\n",
    "                f.write(f'{read.qual}\\n')\n",
    "            \n",
    "        reads[read.qname]=ref\n",
    "        flags.append([ref,read.rlen,read.qlen,AS,read.reference_start,mapq,read.flag])\n",
    "        \n",
    "    if i>20000000: break\n",
    "if save:\n",
    "    f.close()\n",
    "    subprocess.call([ 'pigz', '-f', f_name ])"
   ]
  },
  {
   "cell_type": "code",
   "execution_count": 146,
   "id": "391574dd-4795-48e0-a36b-5595306125b3",
   "metadata": {},
   "outputs": [],
   "source": [
    "# stats and scores\n",
    "stats=[f[1:] for f in flags]\n",
    "stats=pd.DataFrame(np.array(stats))"
   ]
  },
  {
   "cell_type": "code",
   "execution_count": 147,
   "id": "afca72c0-b409-4468-9d13-37a7dd14c87f",
   "metadata": {},
   "outputs": [
    {
     "name": "stdout",
     "output_type": "stream",
     "text": [
      "2945\n"
     ]
    },
    {
     "data": {
      "image/png": "[encoded data removed]",
      "text/plain": [
       "<Figure size 432x288 with 1 Axes>"
      ]
     },
     "metadata": {
      "needs_background": "light"
     },
     "output_type": "display_data"
    }
   ],
   "source": [
    "arr=np.array([l for l in stats[2] if l >0 and l<3000])\n",
    "print(len(arr))\n",
    "plt.hist(arr,bins=100);\n",
    "plt.title('Histogram of alignment scores');"
   ]
  },
  {
   "cell_type": "code",
   "execution_count": 148,
   "id": "e8d79a68-c478-4ced-bfd2-b3502379b718",
   "metadata": {},
   "outputs": [],
   "source": [
    "## bulk level transcript counts for species > emu\n",
    "trns=[f[0] for f in flags]\n",
    "cnt_trns=sort_cnt(trns)\n",
    "\n",
    "cnt_trns.columns=['ref','count']\n",
    "tax_ids=[int(f.split(':')[0]) for f in cnt_trns.ref]\n",
    "cnt_trns['tax_id']=tax_ids\n",
    "cnt_trns_merge=pd.merge(cnt_trns,tax,left_on='tax_id',right_on='tax_id',how='left')"
   ]
  },
  {
   "cell_type": "code",
   "execution_count": 150,
   "id": "f204d737-5874-4d77-913e-73f66d5765ac",
   "metadata": {},
   "outputs": [
    {
     "data": {
      "text/plain": [
       "Pseudomonas putida              69\n",
       "Pseudomonas aeruginosa          68\n",
       "Pseudomonas syringae            52\n",
       "Pseudomonas chlororaphis        43\n",
       "Pseudomonas fluorescens         37\n",
       "Pseudomonas stutzeri            24\n",
       "Pseudomonas synxantha           18\n",
       "Pseudomonas veronii             18\n",
       "Pseudomonas protegens           15\n",
       "Bordetella pertussis            15\n",
       "Pseudomonas oleovorans          13\n",
       "Achromobacter xylosoxidans      13\n",
       "Pseudomonas monteilii           12\n",
       "Acinetobacter baumannii         12\n",
       "Pseudomonas fulva               12\n",
       "Pseudomonas parafulva           12\n",
       "Pseudomonas orientalis          12\n",
       "Achromobacter insolitus         11\n",
       "Stenotrophomonas maltophilia    11\n",
       "Pseudomonas azotoformans        11\n",
       "Name: species, dtype: int64"
      ]
     },
     "execution_count": 150,
     "metadata": {},
     "output_type": "execute_result"
    }
   ],
   "source": [
    "cnt_trns_merge.species.value_counts().head(20)"
   ]
  },
  {
   "cell_type": "markdown",
   "id": "d29d60ca-d275-43f5-b77f-1d56ee121c82",
   "metadata": {},
   "source": [
    "## map barcodes"
   ]
  },
  {
   "cell_type": "code",
   "execution_count": 151,
   "id": "76f31cdf-053f-45aa-9c01-743145d1adae",
   "metadata": {},
   "outputs": [
    {
     "name": "stderr",
     "output_type": "stream",
     "text": [
      "8910197it [00:17, 496092.84it/s]"
     ]
    },
    {
     "name": "stdout",
     "output_type": "stream",
     "text": [
      "(692,)\n"
     ]
    },
    {
     "name": "stderr",
     "output_type": "stream",
     "text": [
      "\n"
     ]
    },
    {
     "data": {
      "text/plain": [
       "692"
      ]
     },
     "execution_count": 151,
     "metadata": {},
     "output_type": "execute_result"
    }
   ],
   "source": [
    "bcs=[];trans=[];bac_dic={}\n",
    "samfile = pysam.AlignmentFile(f_match, 'rb', check_sq=False)\n",
    "for read in tqdm(samfile.fetch(until_eof=True)):\n",
    "    if reads.get(read.qname) is not None:\n",
    "        #BC=read.get_tag('XC')+'-1'#.split('-')[0]\n",
    "        BC=read.get_tag('XB')#.split('-')[0]\n",
    "        UMI=read.get_tag('XM')\n",
    "        trans.append(reads[read.qname])\n",
    "        bcs.append(BC)\n",
    "        try:\n",
    "            bac_dic[reads[read.qname]].append([BC,UMI])\n",
    "        except:\n",
    "            bac_dic[reads[read.qname]]=[[BC,UMI]]\n",
    "    \n",
    "\n",
    "bcs_uni=np.unique(bcs)\n",
    "\n",
    "print(bcs_uni.shape)\n",
    "\n",
    "trans_uni=np.unique(trans)\n",
    "\n",
    "len(set(adata.obs.index) & set(bcs_uni))"
   ]
  },
  {
   "cell_type": "markdown",
   "id": "02447069-9954-4aaa-9570-a3f9bd0ffffb",
   "metadata": {
    "tags": []
   },
   "source": [
    "## make adata "
   ]
  },
  {
   "cell_type": "code",
   "execution_count": null,
   "id": "51cc9e93-902f-48aa-97de-18db8732df75",
   "metadata": {},
   "outputs": [],
   "source": [
    "bac_np = np.zeros( (len(bcs_uni),len(trans_uni)) )\n",
    "bac_df = pd.DataFrame(bac_np, index=bcs_uni, columns=trans_uni)\n",
    "\n",
    "for bac in trans_uni:\n",
    "    uniques = np.unique(bac_dic[bac], axis=0) # all unique pairs of bc and umi\n",
    "    if len(uniques)>0:\n",
    "        bcs, cnts = np.unique(uniques[:,0], return_counts=True) # all barcodes\n",
    "        for i in range(len(cnts)):\n",
    "            if cnts[i]>0:\n",
    "                bac_df.at[bcs[i],bac]+=cnts[i]\n",
    "\n",
    "bac_df=AnnData(bac_df)\n",
    "\n",
    "bac_df.X = csr_matrix(bac_df.X)\n",
    "sc.pp.filter_genes(bac_df, min_counts=1)\n",
    "sc.pp.filter_cells(bac_df, min_counts=1)\n",
    "sc.pp.calculate_qc_metrics(bac_df, percent_top=None, log1p=None, inplace=True)\n",
    "\n",
    "tax_ids=[int(f.split(':')[0]) for f in bac_df.var.index]\n",
    "\n",
    "bac_df.var['tax_id']=tax_ids\n",
    "\n",
    "bac_df.var=bac_df.var.reset_index()\n",
    "\n",
    "bac_df.obs['log10_counts']=np.log10(bac_df.obs['total_counts'])\n",
    "\n",
    "bac_df.obs=pd.merge(bac_df.obs,adata.obs[['x','y']],how='left',left_index=True,right_index=True)\n",
    "bac_df.obsm['spatial']=bac_df.obs[['x','y']].values\n",
    "\n",
    "\n",
    "tax_meta=pd.merge(bac_df.var,tax,left_on='tax_id',right_on='tax_id',how='left')\n",
    "tax_meta=tax_meta.set_index('index')\n",
    "bac_df.var=tax_meta\n",
    "\n",
    "bac_df.var=bac_df.var.drop(columns=['clade', 'superkingdom', 'subspecies','species subgroup', 'species group'])\n",
    "\n",
    "bac_df.var.sort_values(by='total_counts',ascending=False).to_csv(f'{slideseq}/{fold}/{puck}_emu_species.csv')\n",
    "\n",
    "bac_df.write(f'{slideseq}/{fold}/{puck}_emu.h5ad')\n",
    "\n",
    "ax=sc.pl.spatial(bac_df[bac_df.obs.total_counts>0],color='total_counts',show=False,\n",
    "                  spot_size=80,frameon=False,vmax='p99.3',\n",
    "                  crop_coord=[300,5000,5000,300],alpha=.5,cmap='plasma',title='total 16s UMI')\n",
    "plt.savefig(f'{slideseq}/{fold}/{puck}_16s_emu.pdf',bbox_inches='tight');"
   ]
  },
  {
   "cell_type": "markdown",
   "id": "93dec672-085b-499f-be1a-e93b825a324b",
   "metadata": {},
   "source": [
    "## plotting species and genera"
   ]
  },
  {
   "cell_type": "code",
   "execution_count": 153,
   "id": "46c8a2d6-68cf-4545-b5c9-0526286324f8",
   "metadata": {},
   "outputs": [],
   "source": [
    "all_16s=pd.read_csv(f'{slideseq}/{fold}/{puck}_emu_species.csv')"
   ]
  },
  {
   "cell_type": "code",
   "execution_count": 154,
   "id": "85e5b0a8-8be9-42d5-ab72-2dddffc936b1",
   "metadata": {},
   "outputs": [],
   "source": [
    "bac_df=sc.read(f'{slideseq}/{fold}/{puck}_emu.h5ad')"
   ]
  },
  {
   "cell_type": "code",
   "execution_count": 155,
   "id": "3144e65c-c0fe-4c7a-9f13-e1ca67796baf",
   "metadata": {
    "tags": []
   },
   "outputs": [],
   "source": [
    "# taxa level to group and plot"
   ]
  },
  {
   "cell_type": "code",
   "execution_count": 156,
   "id": "acd47326-fe4f-4dee-ae7b-b8a69e900c28",
   "metadata": {},
   "outputs": [],
   "source": [
    "level='genus'"
   ]
  },
  {
   "cell_type": "code",
   "execution_count": 157,
   "id": "5f194bce-f7f9-45f1-aea3-8335047887d8",
   "metadata": {},
   "outputs": [],
   "source": [
    "ss=pd.DataFrame(all_16s.groupby(level)['n_cells_by_counts'].sum())"
   ]
  },
  {
   "cell_type": "code",
   "execution_count": 158,
   "id": "5cfd3fc8-1036-4ce7-82a8-503a6472f809",
   "metadata": {},
   "outputs": [],
   "source": [
    "ss=ss.sort_values(by='n_cells_by_counts',ascending=False)"
   ]
  },
  {
   "cell_type": "code",
   "execution_count": 159,
   "id": "235852c0-1e51-4487-9fe3-095bfa3c0b72",
   "metadata": {},
   "outputs": [
    {
     "data": {
      "text/html": [
       "<div>\n",
       "<style scoped>\n",
       "    .dataframe tbody tr th:only-of-type {\n",
       "        vertical-align: middle;\n",
       "    }\n",
       "\n",
       "    .dataframe tbody tr th {\n",
       "        vertical-align: top;\n",
       "    }\n",
       "\n",
       "    .dataframe thead th {\n",
       "        text-align: right;\n",
       "    }\n",
       "</style>\n",
       "<table border=\"1\" class=\"dataframe\">\n",
       "  <thead>\n",
       "    <tr style=\"text-align: right;\">\n",
       "      <th></th>\n",
       "      <th>n_cells_by_counts</th>\n",
       "    </tr>\n",
       "    <tr>\n",
       "      <th>genus</th>\n",
       "      <th></th>\n",
       "    </tr>\n",
       "  </thead>\n",
       "  <tbody>\n",
       "    <tr>\n",
       "      <th>Pseudomonas</th>\n",
       "      <td>2126</td>\n",
       "    </tr>\n",
       "    <tr>\n",
       "      <th>Achromobacter</th>\n",
       "      <td>168</td>\n",
       "    </tr>\n",
       "    <tr>\n",
       "      <th>Bordetella</th>\n",
       "      <td>96</td>\n",
       "    </tr>\n",
       "    <tr>\n",
       "      <th>Acinetobacter</th>\n",
       "      <td>32</td>\n",
       "    </tr>\n",
       "  </tbody>\n",
       "</table>\n",
       "</div>"
      ],
      "text/plain": [
       "               n_cells_by_counts\n",
       "genus                           \n",
       "Pseudomonas                 2126\n",
       "Achromobacter                168\n",
       "Bordetella                    96\n",
       "Acinetobacter                 32"
      ]
     },
     "execution_count": 159,
     "metadata": {},
     "output_type": "execute_result"
    }
   ],
   "source": [
    "ss[ss.n_cells_by_counts>20]"
   ]
  },
  {
   "cell_type": "code",
   "execution_count": 160,
   "id": "9e2adca7-4c97-48c7-be82-dcd5b8bc1d8b",
   "metadata": {},
   "outputs": [],
   "source": [
    "ss=ss[ss.n_cells_by_counts>20].copy()"
   ]
  },
  {
   "cell_type": "code",
   "execution_count": 161,
   "id": "0a345f6b-868d-493c-a457-3ab949f74dfb",
   "metadata": {},
   "outputs": [
    {
     "data": {
      "image/png": "[encoded data removed]",
      "text/plain": [
       "<Figure size 1728x432 with 8 Axes>"
      ]
     },
     "metadata": {
      "needs_background": "light"
     },
     "output_type": "display_data"
    }
   ],
   "source": [
    "nrow=1;ncol=4;wd=6\n",
    "fig, ax = plt.subplots(nrow, ncol, figsize=(ncol*wd,nrow*wd), gridspec_kw={'wspace':0.01})\n",
    "axr=ax.ravel()\n",
    "for i,gene in enumerate(ss.index):\n",
    "    \n",
    "        bac_cp=bac_df[:,bac_df.var[f'{level}']==gene].copy()\n",
    "        sc.pp.filter_cells(bac_cp, min_counts=1)\n",
    "        sc.pp.calculate_qc_metrics(bac_cp, percent_top=None, log1p=None, inplace=True)\n",
    "        #print(bac_cp.shape)\n",
    "        sc.pl.spatial(bac_cp,color='total_counts',ax=axr[i], show=False,\n",
    "              spot_size=80,frameon=False,vmax='p99.2',\n",
    "              crop_coord=[300,5000,5000,300],alpha=.5,cmap='plasma')\n",
    "        axr[i].set_title(f'{gene}', fontsize=10)#, fontweight='bold')#,f'{gene}\\n{puck}' fontwieght=\"medium\")\n",
    "        cbar = axr[i].collections[0].colorbar\n",
    "        #cbar.remove()\n",
    "        "
   ]
  }
 ],
 "metadata": {
  "kernelspec": {
   "display_name": "Python 3",
   "language": "python",
   "name": "python3"
  },
  "language_info": {
   "codemirror_mode": {
    "name": "ipython",
    "version": 3
   },
   "file_extension": ".py",
   "mimetype": "text/x-python",
   "name": "python",
   "nbconvert_exporter": "python",
   "pygments_lexer": "ipython3",
   "version": "3.7.10"
  },
  "toc-showcode": false
 },
 "nbformat": 4,
 "nbformat_minor": 5
}
